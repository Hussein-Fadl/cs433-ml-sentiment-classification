{
 "cells": [
  {
   "cell_type": "code",
   "execution_count": null,
   "id": "14879ba8",
   "metadata": {},
   "outputs": [],
   "source": []
  },
  {
   "cell_type": "code",
   "execution_count": 1,
   "id": "8d690851",
   "metadata": {
    "scrolled": false
   },
   "outputs": [],
   "source": [
    "from nltk.tokenize.casual import TweetTokenizer\n",
    "import warnings\n",
    "  \n",
    "warnings.filterwarnings(action = 'ignore')\n",
    "  \n",
    "import gensim\n",
    "from gensim.models import Word2Vec\n",
    "from tqdm import tqdm\n",
    "import numpy as np\n",
    "import pandas as pd\n",
    "import re\n",
    "import torch"
   ]
  },
  {
   "cell_type": "code",
   "execution_count": 2,
   "id": "1a1b4086",
   "metadata": {},
   "outputs": [],
   "source": [
    "#  Reads ‘alice.txt’ file\n",
    "sent=[]\n",
    "y=[]\n",
    "with open('twitter-datasets/train_pos_full.txt',errors=\"ignore\") as pos:\n",
    "    for line in pos:\n",
    "        line=line.replace(\"\\n\", \" \")#Replaces escape character with space\n",
    "        sent.append(line)\n",
    "        y.append(1)\n",
    "tweet_pos=sent.copy()\n",
    "with open('twitter-datasets/train_neg_full.txt',errors=\"ignore\") as neg:\n",
    "    for line in neg:\n",
    "        line=line.replace(\"\\n\", \" \")#Replaces escape character with space\n",
    "        sent.append(line)\n",
    "        y.append(0)\n",
    "with open('twitter-datasets/test_data.txt',errors=\"ignore\") as neg:\n",
    "    for line in neg:\n",
    "        line=line.replace(\"\\n\", \" \")#Replaces escape character with space\n",
    "        line=re.sub(r'^\\d*,', '', line)\n",
    "        #line=re.sub(r'<url>', '', line)\n",
    "        sent.append(line)"
   ]
  },
  {
   "cell_type": "markdown",
   "id": "4deda9d9",
   "metadata": {},
   "source": [
    "### loading the test_tweets"
   ]
  },
  {
   "cell_type": "code",
   "execution_count": 5,
   "id": "3225e7ff",
   "metadata": {},
   "outputs": [],
   "source": [
    "test_sent=[]\n",
    "with open('twitter-datasets/test_data.txt',errors=\"ignore\") as neg:\n",
    "    for line in neg:\n",
    "        line=line.replace(\"\\n\", \" \")#Replaces escape character with space\n",
    "        line=re.sub(r'^\\d*,', '', line)\n",
    "        #line=re.sub(r'<url>', '', line)\n",
    "        test_sent.append(line)"
   ]
  },
  {
   "cell_type": "code",
   "execution_count": 6,
   "id": "e27bc928",
   "metadata": {
    "scrolled": true
   },
   "outputs": [
    {
     "name": "stdout",
     "output_type": "stream",
     "text": [
      "10000\n",
      "<class 'list'>\n"
     ]
    },
    {
     "data": {
      "text/plain": [
       "['sea doo pro sea scooter ( sports with the portable sea-doo seascootersave air , stay longer in the water and ... <url> ']"
      ]
     },
     "execution_count": 6,
     "metadata": {},
     "output_type": "execute_result"
    }
   ],
   "source": [
    "print(len(test_sent))\n",
    "print(type(sent))\n",
    "test_sent[:1]"
   ]
  },
  {
   "cell_type": "code",
   "execution_count": 7,
   "id": "09645ad2",
   "metadata": {},
   "outputs": [
    {
     "name": "stdout",
     "output_type": "stream",
     "text": [
      "2500000\n"
     ]
    }
   ],
   "source": [
    "print(len(y))"
   ]
  },
  {
   "cell_type": "code",
   "execution_count": 7,
   "id": "ebaa937c",
   "metadata": {},
   "outputs": [],
   "source": [
    "from help_wordvec import tokenisation"
   ]
  },
  {
   "cell_type": "code",
   "execution_count": 8,
   "id": "be7be0e0",
   "metadata": {},
   "outputs": [
    {
     "name": "stderr",
     "output_type": "stream",
     "text": [
      "100%|█████████████████████████████████████████████████████████████████████| 2510000/2510000 [03:01<00:00, 13842.32it/s]\n"
     ]
    }
   ],
   "source": [
    "data=tokenisation(sent)"
   ]
  },
  {
   "cell_type": "code",
   "execution_count": 9,
   "id": "d2e09705",
   "metadata": {},
   "outputs": [
    {
     "data": {
      "text/plain": [
       "2510000"
      ]
     },
     "execution_count": 9,
     "metadata": {},
     "output_type": "execute_result"
    }
   ],
   "source": [
    "len(data)"
   ]
  },
  {
   "cell_type": "code",
   "execution_count": 10,
   "id": "7a0efe5c",
   "metadata": {
    "scrolled": true
   },
   "outputs": [
    {
     "name": "stderr",
     "output_type": "stream",
     "text": [
      "100%|█████████████████████████████████████████████████████████████████████████| 10000/10000 [00:00<00:00, 15795.52it/s]\n"
     ]
    }
   ],
   "source": [
    "test_data=tokenisation(test_sent)"
   ]
  },
  {
   "cell_type": "code",
   "execution_count": 11,
   "id": "ca2e7cef",
   "metadata": {},
   "outputs": [
    {
     "name": "stdout",
     "output_type": "stream",
     "text": [
      "10000\n"
     ]
    },
    {
     "data": {
      "text/plain": [
       "['<user>',\n",
       " 'shucks',\n",
       " 'well',\n",
       " 'i',\n",
       " 'work',\n",
       " 'all',\n",
       " 'week',\n",
       " 'so',\n",
       " 'now',\n",
       " 'i',\n",
       " \"can't\",\n",
       " 'come',\n",
       " 'cheer',\n",
       " 'you',\n",
       " 'on',\n",
       " '!',\n",
       " 'oh',\n",
       " 'and',\n",
       " 'put',\n",
       " 'those',\n",
       " 'batteries',\n",
       " 'in',\n",
       " 'your',\n",
       " 'calculator',\n",
       " '!',\n",
       " '!',\n",
       " '!']"
      ]
     },
     "execution_count": 11,
     "metadata": {},
     "output_type": "execute_result"
    }
   ],
   "source": [
    "print(len(test_data))\n",
    "test_data[1]"
   ]
  },
  {
   "cell_type": "code",
   "execution_count": 12,
   "id": "ca18f341",
   "metadata": {},
   "outputs": [],
   "source": [
    " # Create CBOW model\n",
    "model1 = gensim.models.Word2Vec(data, min_count = 1, \n",
    "                              vector_size = 200, window = 5,epochs=10)\n",
    "  "
   ]
  },
  {
   "cell_type": "code",
   "execution_count": 13,
   "id": "10f94c68",
   "metadata": {},
   "outputs": [
    {
     "name": "stdout",
     "output_type": "stream",
     "text": [
      "(200,)\n",
      "[-1.1267532e+00  2.0424154e+00  5.6253474e-02 -5.7502318e-02\n",
      "  6.0615790e-01  1.0464619e+00 -1.1726331e+00  1.3233373e+00\n",
      " -1.3385736e+00  1.0588614e+00  1.9110162e+00 -2.3552212e-01\n",
      "  4.1116431e-02 -2.4932945e+00  4.5595059e-01  2.1658373e+00\n",
      " -1.3586603e+00  1.0816740e+00 -4.6649355e-02  3.3074087e-01\n",
      " -5.8651942e-01  3.3023441e-01 -1.6679669e-02 -7.9627335e-01\n",
      " -4.2344838e-01  1.0586134e+00  6.6553891e-01  6.8259996e-01\n",
      "  2.4531287e-01  1.1568649e+00 -3.2750168e+00  2.3219988e-01\n",
      "  3.1105421e+00 -2.3448753e-01 -1.8756492e+00 -1.5655328e-01\n",
      "  1.5983626e+00  4.3604136e+00  1.8746079e+00 -5.9475195e-01\n",
      " -5.2616352e-01  1.5364137e+00 -1.1431412e+00  7.9961354e-01\n",
      " -3.0530274e+00  5.8786774e-01 -5.2212667e-01 -2.3319021e-01\n",
      "  4.2945853e-01  1.0320014e+00  1.0852656e+00 -6.6833310e-02\n",
      " -7.2479911e-02 -2.3506124e+00  2.1612411e+00  5.0549775e-01\n",
      " -5.1804167e-01  2.6765940e-01  9.9062318e-01  3.5376284e-01\n",
      "  4.1665480e-01  1.2633592e+00  1.9703778e+00  4.2566162e-02\n",
      "  2.3353164e+00 -4.8780522e-01 -2.8188094e-01  7.1069621e-02\n",
      " -6.0681683e-01  9.7815953e-03  5.8250880e-01 -2.8741053e-01\n",
      " -1.6872829e-01 -2.1349337e+00 -7.1454483e-01 -1.0811394e+00\n",
      " -5.8643752e-01 -1.3839158e+00  6.6741431e-01 -3.7272429e-01\n",
      "  7.7583039e-01 -8.3038434e-02 -7.6146263e-01 -7.5508553e-01\n",
      " -2.9369156e+00  1.9273581e-01  4.1768090e-03  9.7028333e-01\n",
      " -1.2393105e+00  4.1028428e-01  1.0948026e+00 -1.9502683e+00\n",
      " -2.1869018e+00  1.8370531e+00  2.8860819e+00  1.1464857e+00\n",
      "  2.5563843e+00 -2.2678452e+00 -2.3045230e+00  1.4974960e+00\n",
      " -5.8909476e-01  5.6068200e-01 -1.9389772e+00  9.5249850e-01\n",
      "  1.8739764e-01  1.7234780e+00 -1.5414044e+00 -3.0442974e-01\n",
      "  1.1284280e+00  2.0942378e+00 -1.1314762e-02  1.7009782e+00\n",
      " -1.8364053e+00 -1.3823271e+00  6.7779936e-02 -9.6082515e-01\n",
      "  2.6556733e-01  9.5174998e-01  1.7003365e+00 -2.5612235e+00\n",
      "  9.0933192e-01 -8.4463871e-01  2.8964305e+00  9.5677412e-01\n",
      "  2.0535444e-01  2.1753771e+00  2.8157537e+00  3.3068877e-01\n",
      " -4.9413213e-01 -2.3476508e+00  8.2223308e-01  7.7551210e-01\n",
      "  1.8431705e+00  7.1483552e-01  1.5605608e+00  1.7689496e+00\n",
      " -4.3692040e-01 -3.3024912e+00  1.7782832e+00  8.1528670e-01\n",
      " -5.2290219e-03 -1.4628637e+00 -9.0011382e-01  1.1318017e+00\n",
      "  3.8699809e-01 -1.1496532e+00 -2.1663063e+00 -1.0329397e+00\n",
      " -3.4147507e-01  9.5236313e-04  1.9224986e+00 -1.7223582e-01\n",
      " -1.6052589e+00  6.9330074e-02  6.2690055e-01 -2.0468469e+00\n",
      "  8.8675761e-01 -7.5101191e-01  3.9616847e-01  1.4418467e+00\n",
      "  8.5898364e-01  2.4387021e+00  8.4416825e-01 -1.8502100e+00\n",
      "  1.4791814e+00 -2.4117854e-01 -1.6211616e+00 -9.7240530e-02\n",
      "  1.5378039e+00 -3.9737073e-01  7.0205653e-01 -1.8983959e+00\n",
      " -1.5959790e+00 -1.3086143e+00  1.0311778e+00  1.7696301e-02\n",
      " -9.5289052e-01  1.7985468e+00  4.6990551e-02  1.6044438e+00\n",
      " -1.9787925e+00 -6.2507349e-01 -6.7063159e-01 -2.0776951e+00\n",
      "  1.7278302e+00  1.4479178e+00 -2.1662617e+00  3.0253663e+00\n",
      " -2.6227334e-01 -3.4993738e-01  3.2501730e-01 -6.6478223e-01\n",
      " -4.8608831e-01 -6.0656512e-01  1.2555163e+00  8.2241541e-01\n",
      " -2.9268807e-01 -5.2216929e-01 -7.0681745e-01  4.9320307e-01]\n"
     ]
    },
    {
     "data": {
      "text/plain": [
       "200"
      ]
     },
     "execution_count": 13,
     "metadata": {},
     "output_type": "execute_result"
    }
   ],
   "source": [
    "print(model1.wv['mother'].shape)\n",
    "print(model1.wv['mother'])\n",
    "model1.vector_size"
   ]
  },
  {
   "cell_type": "markdown",
   "id": "33d18410",
   "metadata": {},
   "source": [
    "### Making the feature matrix from the embeded vectors "
   ]
  },
  {
   "cell_type": "code",
   "execution_count": 14,
   "id": "9d934f7c",
   "metadata": {
    "scrolled": true
   },
   "outputs": [],
   "source": [
    "from help_wordvec import feature"
   ]
  },
  {
   "cell_type": "code",
   "execution_count": 15,
   "id": "1012a93e",
   "metadata": {},
   "outputs": [
    {
     "name": "stderr",
     "output_type": "stream",
     "text": [
      "100%|█████████████████████████████████████████████████████████████████████████| 10000/10000 [00:00<00:00, 17806.38it/s]"
     ]
    },
    {
     "name": "stdout",
     "output_type": "stream",
     "text": [
      "(10000, 200)\n"
     ]
    },
    {
     "name": "stderr",
     "output_type": "stream",
     "text": [
      "\n"
     ]
    }
   ],
   "source": [
    "test_tx=feature(test_data,model1)\n",
    "print(test_tx.shape)"
   ]
  },
  {
   "cell_type": "code",
   "execution_count": 16,
   "id": "e048ba02",
   "metadata": {},
   "outputs": [],
   "source": [
    "np.save('test_tx',test_tx)"
   ]
  },
  {
   "cell_type": "code",
   "execution_count": 17,
   "id": "651392d3",
   "metadata": {
    "scrolled": true
   },
   "outputs": [
    {
     "name": "stderr",
     "output_type": "stream",
     "text": [
      "100%|█████████████████████████████████████████████████████████████████████| 2510000/2510000 [02:39<00:00, 15693.56it/s]\n"
     ]
    },
    {
     "name": "stdout",
     "output_type": "stream",
     "text": [
      "(2510000, 200)\n"
     ]
    }
   ],
   "source": [
    "tx=feature(data,model1)\n",
    "print(tx.shape)"
   ]
  },
  {
   "cell_type": "code",
   "execution_count": 18,
   "id": "1d54a6c6",
   "metadata": {},
   "outputs": [],
   "source": [
    "np.save('tx_full',tx)"
   ]
  },
  {
   "cell_type": "code",
   "execution_count": 3,
   "id": "9fb9cd5f",
   "metadata": {},
   "outputs": [],
   "source": [
    "tx=np.load('tx_full.npy')"
   ]
  },
  {
   "cell_type": "code",
   "execution_count": 4,
   "id": "a62a2a26",
   "metadata": {},
   "outputs": [
    {
     "data": {
      "text/plain": [
       "(2500000, 200)"
      ]
     },
     "execution_count": 4,
     "metadata": {},
     "output_type": "execute_result"
    }
   ],
   "source": [
    "tx=tx[:2500000,:]\n",
    "tx.shape"
   ]
  },
  {
   "cell_type": "code",
   "execution_count": 5,
   "id": "dbd617e5",
   "metadata": {},
   "outputs": [],
   "source": [
    "from help_wordvec import split_data\n"
   ]
  },
  {
   "cell_type": "code",
   "execution_count": 12,
   "id": "71d2b1a5",
   "metadata": {},
   "outputs": [
    {
     "name": "stdout",
     "output_type": "stream",
     "text": [
      "(2500000, 1)\n"
     ]
    }
   ],
   "source": [
    "y=np.array(y).reshape(-1,1)\n",
    "print(y.shape)\n",
    "[y_tr,y_te,x_tr,x_te]=split_data(tx,y,0.9,20)"
   ]
  },
  {
   "cell_type": "code",
   "execution_count": 13,
   "id": "a9ef4cce",
   "metadata": {},
   "outputs": [],
   "source": [
    "from sklearn.linear_model import SGDClassifier\n",
    "from sklearn.model_selection import cross_val_score"
   ]
  },
  {
   "cell_type": "markdown",
   "id": "e9d86092",
   "metadata": {},
   "source": [
    "# SGD"
   ]
  },
  {
   "cell_type": "code",
   "execution_count": 14,
   "id": "03a5d9ed",
   "metadata": {
    "scrolled": true
   },
   "outputs": [
    {
     "name": "stdout",
     "output_type": "stream",
     "text": [
      "-- Epoch 1\n",
      "Norm: 5.86, NNZs: 200, Bias: 1.983053, T: 2250000, Avg. loss: 1.062773\n",
      "Total training time: 17.69 seconds.\n",
      "-- Epoch 2\n",
      "Norm: 5.43, NNZs: 200, Bias: 1.871007, T: 4500000, Avg. loss: 0.564499\n",
      "Total training time: 19.34 seconds.\n",
      "-- Epoch 3\n",
      "Norm: 5.28, NNZs: 200, Bias: 1.706813, T: 6750000, Avg. loss: 0.546612\n",
      "Total training time: 20.75 seconds.\n",
      "-- Epoch 4\n",
      "Norm: 5.22, NNZs: 200, Bias: 1.718150, T: 9000000, Avg. loss: 0.539463\n",
      "Total training time: 22.16 seconds.\n",
      "-- Epoch 5\n",
      "Norm: 5.19, NNZs: 200, Bias: 1.713742, T: 11250000, Avg. loss: 0.535431\n",
      "Total training time: 23.57 seconds.\n",
      "-- Epoch 6\n",
      "Norm: 5.16, NNZs: 200, Bias: 1.709556, T: 13500000, Avg. loss: 0.533006\n",
      "Total training time: 24.98 seconds.\n",
      "-- Epoch 7\n",
      "Norm: 5.11, NNZs: 200, Bias: 1.726489, T: 15750000, Avg. loss: 0.531283\n",
      "Total training time: 26.39 seconds.\n",
      "-- Epoch 8\n",
      "Norm: 5.09, NNZs: 200, Bias: 1.715938, T: 18000000, Avg. loss: 0.529889\n",
      "Total training time: 27.79 seconds.\n",
      "-- Epoch 9\n",
      "Norm: 5.10, NNZs: 200, Bias: 1.694411, T: 20250000, Avg. loss: 0.529052\n",
      "Total training time: 29.20 seconds.\n",
      "-- Epoch 10\n",
      "Norm: 5.08, NNZs: 200, Bias: 1.721243, T: 22500000, Avg. loss: 0.528402\n",
      "Total training time: 30.60 seconds.\n",
      "-- Epoch 11\n",
      "Norm: 5.07, NNZs: 200, Bias: 1.694105, T: 24750000, Avg. loss: 0.527721\n",
      "Total training time: 32.00 seconds.\n",
      "-- Epoch 12\n",
      "Norm: 5.05, NNZs: 200, Bias: 1.707654, T: 27000000, Avg. loss: 0.527196\n",
      "Total training time: 33.40 seconds.\n",
      "-- Epoch 13\n",
      "Norm: 5.04, NNZs: 200, Bias: 1.713457, T: 29250000, Avg. loss: 0.526785\n",
      "Total training time: 34.80 seconds.\n",
      "Convergence after 13 epochs took 34.80 seconds\n"
     ]
    }
   ],
   "source": [
    "clf = SGDClassifier(loss=\"hinge\", penalty=\"l2\", max_iter=10000,verbose=True)\n",
    "clf.fit(x_tr, y_tr)\n",
    "y_pred=clf.predict(x_te)\n",
    "#scores = cross_val_score(clf, tx, y,scoring='accuracy', cv=4)"
   ]
  },
  {
   "cell_type": "code",
   "execution_count": 15,
   "id": "b6ddc4ac",
   "metadata": {},
   "outputs": [
    {
     "data": {
      "text/plain": [
       "(250000, 1)"
      ]
     },
     "execution_count": 15,
     "metadata": {},
     "output_type": "execute_result"
    }
   ],
   "source": [
    "y_pred.shape\n",
    "y_te.shape"
   ]
  },
  {
   "cell_type": "code",
   "execution_count": 16,
   "id": "2d5e9d51",
   "metadata": {},
   "outputs": [
    {
     "name": "stdout",
     "output_type": "stream",
     "text": [
      "accuarcy = 0.774524\n"
     ]
    }
   ],
   "source": [
    "#print('Accuracy = '+str(scores.mean()))\n",
    "acc=np.sum(y_pred==y_te.T)/len(y_te)\n",
    "print('accuarcy = '+str(acc))"
   ]
  },
  {
   "cell_type": "markdown",
   "id": "bfce4eaf",
   "metadata": {},
   "source": [
    "# KNN"
   ]
  },
  {
   "cell_type": "code",
   "execution_count": 15,
   "id": "7f39ac10",
   "metadata": {},
   "outputs": [],
   "source": [
    "from sklearn.neighbors import KNeighborsClassifier"
   ]
  },
  {
   "cell_type": "code",
   "execution_count": 1,
   "id": "e94bf737",
   "metadata": {},
   "outputs": [],
   "source": [
    "from help_wordvec import take_part"
   ]
  },
  {
   "cell_type": "code",
   "execution_count": 22,
   "id": "a7703f5c",
   "metadata": {},
   "outputs": [],
   "source": [
    "y=np.array(y).reshape(-1,1)\n",
    "tx_small,y_small=take_part(tx,y,1000000,20)\n",
    "[y_tr,y_te,x_tr,x_te]=split_data(tx_small, y_small, 0.99, 20)"
   ]
  },
  {
   "cell_type": "code",
   "execution_count": 23,
   "id": "23b18b28",
   "metadata": {},
   "outputs": [
    {
     "data": {
      "text/plain": [
       "(1000000, 200)"
      ]
     },
     "execution_count": 23,
     "metadata": {},
     "output_type": "execute_result"
    }
   ],
   "source": [
    "tx_small.shape"
   ]
  },
  {
   "cell_type": "code",
   "execution_count": 24,
   "id": "ca287473",
   "metadata": {
    "scrolled": true
   },
   "outputs": [
    {
     "data": {
      "text/plain": [
       "KNeighborsClassifier()"
      ]
     },
     "execution_count": 24,
     "metadata": {},
     "output_type": "execute_result"
    }
   ],
   "source": [
    "neigh = KNeighborsClassifier(n_neighbors=5)\n",
    "neigh.fit(x_tr, y_tr)"
   ]
  },
  {
   "cell_type": "code",
   "execution_count": 25,
   "id": "46bcd3f3",
   "metadata": {},
   "outputs": [
    {
     "data": {
      "text/plain": [
       "(10000, 200)"
      ]
     },
     "execution_count": 25,
     "metadata": {},
     "output_type": "execute_result"
    }
   ],
   "source": [
    "x_te.shape"
   ]
  },
  {
   "cell_type": "code",
   "execution_count": 26,
   "id": "53677151",
   "metadata": {},
   "outputs": [],
   "source": [
    "y_pred=neigh.predict(x_te)\n",
    "#scores = cross_val_score(neigh, tx, y,scoring='accuracy', cv=4)"
   ]
  },
  {
   "cell_type": "code",
   "execution_count": 27,
   "id": "1dde8668",
   "metadata": {},
   "outputs": [
    {
     "name": "stdout",
     "output_type": "stream",
     "text": [
      "accuarcy = 0.7752\n"
     ]
    }
   ],
   "source": [
    "#print('Accuracy = '+str(scores.mean()))\n",
    "acc=np.sum(y_pred==y_te.T)/len(y_te)\n",
    "print('accuarcy = '+str(acc))"
   ]
  },
  {
   "cell_type": "markdown",
   "id": "67d62e17",
   "metadata": {},
   "source": [
    "# SVM"
   ]
  },
  {
   "cell_type": "code",
   "execution_count": 24,
   "id": "1f0dd709",
   "metadata": {},
   "outputs": [],
   "source": [
    "from sklearn.svm import SVC"
   ]
  },
  {
   "cell_type": "code",
   "execution_count": 25,
   "id": "746e3771",
   "metadata": {},
   "outputs": [],
   "source": [
    "y=np.array(y).reshape(-1,1)\n",
    "tx_small,y_small=take_part(tx,y,100000,20)\n",
    "[y_tr,y_te,x_tr,x_te]=split_data(tx_small, y_small, 0.9, 20)"
   ]
  },
  {
   "cell_type": "code",
   "execution_count": 26,
   "id": "946d37f1",
   "metadata": {},
   "outputs": [
    {
     "data": {
      "text/plain": [
       "(100000, 200)"
      ]
     },
     "execution_count": 26,
     "metadata": {},
     "output_type": "execute_result"
    }
   ],
   "source": [
    "tx_small.shape"
   ]
  },
  {
   "cell_type": "code",
   "execution_count": 27,
   "id": "12d8a942",
   "metadata": {},
   "outputs": [
    {
     "data": {
      "text/plain": [
       "SVC(degree=4)"
      ]
     },
     "execution_count": 27,
     "metadata": {},
     "output_type": "execute_result"
    }
   ],
   "source": [
    "SVmod=SVC(degree=4)\n",
    "SVmod.fit(x_tr, y_tr)"
   ]
  },
  {
   "cell_type": "code",
   "execution_count": 28,
   "id": "ee2e5844",
   "metadata": {},
   "outputs": [],
   "source": [
    "y_pred=SVmod.predict(x_te)\n",
    "#scores = cross_val_score(SVmod, tx, y,scoring='accuracy', cv=4)"
   ]
  },
  {
   "cell_type": "code",
   "execution_count": 29,
   "id": "1f55d7cf",
   "metadata": {},
   "outputs": [
    {
     "name": "stdout",
     "output_type": "stream",
     "text": [
      "accuarcy = 0.8174\n"
     ]
    }
   ],
   "source": [
    "acc=np.sum(y_pred==y_te.T)/len(y_te)\n",
    "print('accuarcy = '+str(acc))\n",
    "#print('Accuracy = '+str(scores.mean()))"
   ]
  },
  {
   "cell_type": "code",
   "execution_count": null,
   "id": "032e4d89",
   "metadata": {},
   "outputs": [],
   "source": []
  },
  {
   "cell_type": "markdown",
   "id": "da74b98c",
   "metadata": {},
   "source": [
    "# NN"
   ]
  },
  {
   "cell_type": "code",
   "execution_count": 75,
   "id": "65214aa1",
   "metadata": {},
   "outputs": [],
   "source": [
    "from sklearn.neural_network import MLPClassifier"
   ]
  },
  {
   "cell_type": "code",
   "execution_count": 80,
   "id": "ee6a02e7",
   "metadata": {},
   "outputs": [],
   "source": [
    "y=np.array(y).reshape(-1,1)\n",
    "tx_small,y_small=take_part(tx,y,100000,20)\n",
    "[y_tr,y_te,x_tr,x_te]=split_data(tx_small, y_small, 0.9, 20)"
   ]
  },
  {
   "cell_type": "code",
   "execution_count": 81,
   "id": "e538b3fa",
   "metadata": {
    "scrolled": true
   },
   "outputs": [
    {
     "data": {
      "text/plain": [
       "MLPClassifier(alpha=1e-05, hidden_layer_sizes=20, max_iter=100, random_state=1,\n",
       "              solver='lbfgs', verbose=True)"
      ]
     },
     "execution_count": 81,
     "metadata": {},
     "output_type": "execute_result"
    }
   ],
   "source": [
    "NN = MLPClassifier(solver='lbfgs', alpha=1e-5,\n",
    "                     hidden_layer_sizes=(20), random_state=1, activation='relu', max_iter=100,verbose=True)\n",
    "NN.fit(x_tr, y_tr)\n"
   ]
  },
  {
   "cell_type": "code",
   "execution_count": 82,
   "id": "441b8c4e",
   "metadata": {},
   "outputs": [],
   "source": [
    "y_pred=NN.predict(x_te)\n",
    "#scores = cross_val_score(NN, tx, y,scoring='accuracy', cv=4)"
   ]
  },
  {
   "cell_type": "code",
   "execution_count": 83,
   "id": "591d73e3",
   "metadata": {},
   "outputs": [
    {
     "name": "stdout",
     "output_type": "stream",
     "text": [
      "accuarcy = 0.7981\n"
     ]
    }
   ],
   "source": [
    "acc=np.sum(y_pred==y_te.T)/len(y_te)\n",
    "print('accuarcy = '+str(acc))\n",
    "#print('Accuracy = '+str(scores.mean()))"
   ]
  },
  {
   "cell_type": "code",
   "execution_count": null,
   "id": "5898769c",
   "metadata": {},
   "outputs": [],
   "source": []
  },
  {
   "cell_type": "markdown",
   "id": "1556ad27",
   "metadata": {},
   "source": [
    "# NN not sklearn"
   ]
  },
  {
   "cell_type": "code",
   "execution_count": 29,
   "id": "02b595b2",
   "metadata": {},
   "outputs": [
    {
     "data": {
      "text/plain": [
       "(2500000, 200)"
      ]
     },
     "execution_count": 29,
     "metadata": {},
     "output_type": "execute_result"
    }
   ],
   "source": [
    "tx=np.load('tx_full.npy')\n",
    "tx=tx[:2500000,:]\n",
    "tx.shape"
   ]
  },
  {
   "cell_type": "code",
   "execution_count": 30,
   "id": "c34fcdd9",
   "metadata": {},
   "outputs": [
    {
     "data": {
      "text/plain": [
       "(2500000, 200)"
      ]
     },
     "execution_count": 30,
     "metadata": {},
     "output_type": "execute_result"
    }
   ],
   "source": [
    "tx.shape"
   ]
  },
  {
   "cell_type": "code",
   "execution_count": 31,
   "id": "4859dac9",
   "metadata": {},
   "outputs": [
    {
     "data": {
      "text/plain": [
       "(2250000, 1)"
      ]
     },
     "execution_count": 31,
     "metadata": {},
     "output_type": "execute_result"
    }
   ],
   "source": [
    "y=np.array(y,dtype=np.float32).reshape(-1,1)\n",
    "#tx_small,y_small=take_part(tx,y,1000000,20)\n",
    "[y_tr,y_te,x_tr,x_te]=split_data(tx, y, 0.9, 20)\n",
    "y_tr.shape"
   ]
  },
  {
   "cell_type": "code",
   "execution_count": 32,
   "id": "b84e8509",
   "metadata": {},
   "outputs": [],
   "source": [
    "import torch\n",
    "import torch.nn as nn\n",
    "from torch.autograd import Variable"
   ]
  },
  {
   "cell_type": "code",
   "execution_count": 33,
   "id": "8bbf65d3",
   "metadata": {},
   "outputs": [],
   "source": [
    "class MLP(nn.Module):\n",
    "    def __init__(self, embedding_dim,hidden_size):\n",
    "        super(MLP, self).__init__()\n",
    "        # TODO: Define parameters / layers of a multi-layered perceptron with one hidden layer\n",
    "        self.linear_relu_stack = nn.Sequential(\n",
    "            nn.Linear(embedding_dim, hidden_size),\n",
    "            nn.ReLU(), \n",
    "            nn.Linear(hidden_size, hidden_size),\n",
    "            nn.ReLU(),\n",
    "            nn.Linear(hidden_size, 1),\n",
    "            nn.Sigmoid())\n",
    "    \n",
    "    def forward(self, x):\n",
    "        # TODO: implement forward computation\n",
    "        return self.linear_relu_stack(x)\n",
    "#class MLP(nn.Module):\n",
    "#    def __init__(self, hidden_size,embed_dim):\n",
    "#        super(MLP, self).__init__()\n",
    "#        # TODO: Define parameters / layers of a multi-layered perceptron with one hidden layer\n",
    "#        ### SOLUTION\n",
    "#        self.fc1 = nn.Linear(embed_dim,hidden_size)\n",
    "#        self.activation_fn = nn.Sigmoid()\n",
    "#        self.fc2 = nn.Linear(hidden_size,1) \n",
    "#    def forward(self, x):\n",
    "#        # TODO: implement forward computation\n",
    "#        out = self.fc2(self.activation_fn(self.fc1(x)))\n",
    "#        return out"
   ]
  },
  {
   "cell_type": "code",
   "execution_count": 34,
   "id": "630e4be4",
   "metadata": {},
   "outputs": [],
   "source": [
    "def train(features, labels, model, lossfunc, optimizer, num_epoch):\n",
    "    for epoch in range(num_epoch):\n",
    "        # TODO: Step 1 - create torch variables corresponding to features and labels\n",
    "        inputs = torch.from_numpy(features)\n",
    "        targets = torch.from_numpy(labels)\n",
    "        # TODO: Step 2 - compute model predictions and loss\n",
    "        ### SOLUTION\n",
    "        outputs = model(inputs)\n",
    "        loss = lossfunc(outputs, targets)\n",
    "        # TODO: Step 3 - do a backward pass and a gradient update step\n",
    "        optimizer.zero_grad()  \n",
    "        loss.backward()\n",
    "        optimizer.step()\n",
    "        if epoch % 10 == 0:\n",
    "            print ('Epoch [%d/%d], Loss: %.4f' %(epoch+1, num_epoch, loss.item()))\n"
   ]
  },
  {
   "cell_type": "code",
   "execution_count": 35,
   "id": "4923a731",
   "metadata": {},
   "outputs": [],
   "source": [
    "hidden_size = 200\n",
    "learning_rate = 0.01\n",
    "model = MLP(embedding_dim=200,hidden_size = hidden_size)\n",
    "optimizer = torch.optim.Adam(model.parameters(), lr=learning_rate)\n",
    "lossfunc = nn.MSELoss()"
   ]
  },
  {
   "cell_type": "code",
   "execution_count": 36,
   "id": "218b19e4",
   "metadata": {},
   "outputs": [
    {
     "data": {
      "text/plain": [
       "array([[0.],\n",
       "       [1.],\n",
       "       [0.],\n",
       "       ...,\n",
       "       [1.],\n",
       "       [0.],\n",
       "       [1.]], dtype=float32)"
      ]
     },
     "execution_count": 36,
     "metadata": {},
     "output_type": "execute_result"
    }
   ],
   "source": [
    "y_tr"
   ]
  },
  {
   "cell_type": "code",
   "execution_count": 37,
   "id": "b84cf13c",
   "metadata": {},
   "outputs": [
    {
     "name": "stdout",
     "output_type": "stream",
     "text": [
      "Epoch [1/50], Loss: 0.2495\n",
      "Epoch [11/50], Loss: 0.2046\n",
      "Epoch [21/50], Loss: 0.1682\n",
      "Epoch [31/50], Loss: 0.1528\n",
      "Epoch [41/50], Loss: 0.1468\n"
     ]
    }
   ],
   "source": [
    "train(features=x_tr,\n",
    "      labels=y_tr,\n",
    "      model=model,\n",
    "      lossfunc=lossfunc,\n",
    "      optimizer=optimizer,\n",
    "      num_epoch=50)"
   ]
  },
  {
   "cell_type": "code",
   "execution_count": 38,
   "id": "a6c05ac3",
   "metadata": {},
   "outputs": [],
   "source": [
    "ytr_pred = model(torch.from_numpy(x_tr)).data.numpy()\n",
    "ytr_pred[ytr_pred>=0.5]=1\n",
    "ytr_pred[ytr_pred<0.5]=0"
   ]
  },
  {
   "cell_type": "code",
   "execution_count": 39,
   "id": "23bdbd80",
   "metadata": {},
   "outputs": [
    {
     "data": {
      "text/plain": [
       "(2250000, 1)"
      ]
     },
     "execution_count": 39,
     "metadata": {},
     "output_type": "execute_result"
    }
   ],
   "source": [
    "ytr_pred.shape\n",
    "#y_tr.shape"
   ]
  },
  {
   "cell_type": "code",
   "execution_count": 40,
   "id": "f7f6bbee",
   "metadata": {},
   "outputs": [
    {
     "name": "stdout",
     "output_type": "stream",
     "text": [
      "train accuarcy = 0.7908542222222222\n"
     ]
    }
   ],
   "source": [
    "acc=np.sum(ytr_pred==y_tr)/len(y_tr)\n",
    "print('train accuarcy = '+str(acc))"
   ]
  },
  {
   "cell_type": "code",
   "execution_count": 41,
   "id": "bf1ad1ca",
   "metadata": {},
   "outputs": [],
   "source": [
    "yte_pred = model(torch.from_numpy(x_te)).data.numpy()\n",
    "yte_pred[yte_pred>=0.5]=1\n",
    "yte_pred[yte_pred<0.5]=0"
   ]
  },
  {
   "cell_type": "code",
   "execution_count": 42,
   "id": "510574c9",
   "metadata": {},
   "outputs": [
    {
     "name": "stdout",
     "output_type": "stream",
     "text": [
      "test accuarcy = 0.78978\n"
     ]
    }
   ],
   "source": [
    "acc=np.sum(yte_pred==y_te)/len(y_te)\n",
    "print('test accuarcy = '+str(acc))"
   ]
  },
  {
   "cell_type": "code",
   "execution_count": 43,
   "id": "9e1ecef2",
   "metadata": {},
   "outputs": [],
   "source": [
    "torch.save(model, 'model_NN_fulldata')"
   ]
  },
  {
   "cell_type": "markdown",
   "id": "86e04da2",
   "metadata": {},
   "source": [
    "# Making the prdictions"
   ]
  },
  {
   "cell_type": "code",
   "execution_count": 44,
   "id": "66eda63b",
   "metadata": {},
   "outputs": [
    {
     "name": "stdout",
     "output_type": "stream",
     "text": [
      "(10000, 200)\n",
      "<class 'numpy.ndarray'>\n"
     ]
    },
    {
     "data": {
      "text/plain": [
       "dtype('float32')"
      ]
     },
     "execution_count": 44,
     "metadata": {},
     "output_type": "execute_result"
    }
   ],
   "source": [
    "model2 = torch.load('model_NN_fulldata')\n",
    "test_tx=np.load('test_tx.npy')\n",
    "test_tx=np.float32(test_tx)\n",
    "print(test_tx.shape)\n",
    "print(type(test_tx))\n",
    "test_tx.dtype"
   ]
  },
  {
   "cell_type": "code",
   "execution_count": 53,
   "id": "6400f45f",
   "metadata": {},
   "outputs": [
    {
     "data": {
      "text/plain": [
       "dtype('float32')"
      ]
     },
     "execution_count": 53,
     "metadata": {},
     "output_type": "execute_result"
    }
   ],
   "source": [
    "tx=np.load('tx_full.npy')\n",
    "tx.dtype"
   ]
  },
  {
   "cell_type": "markdown",
   "id": "0152d5fd",
   "metadata": {},
   "source": [
    "### Testing if the saveing of the model have worked"
   ]
  },
  {
   "cell_type": "code",
   "execution_count": 53,
   "id": "086abaeb",
   "metadata": {},
   "outputs": [],
   "source": [
    "ytr_pred = model2(torch.from_numpy(x_tr)).data.numpy()\n",
    "ytr_pred[ytr_pred>=0.5]=1\n",
    "ytr_pred[ytr_pred<0.5]=0"
   ]
  },
  {
   "cell_type": "code",
   "execution_count": 54,
   "id": "f759bf93",
   "metadata": {},
   "outputs": [
    {
     "name": "stdout",
     "output_type": "stream",
     "text": [
      "train accuarcy = 0.7908542222222222\n"
     ]
    }
   ],
   "source": [
    "acc=np.sum(ytr_pred==y_tr)/len(y_tr)\n",
    "print('train accuarcy = '+str(acc))"
   ]
  },
  {
   "cell_type": "code",
   "execution_count": 55,
   "id": "aa165a63",
   "metadata": {},
   "outputs": [],
   "source": [
    "yte_pred = model2(torch.from_numpy(x_te)).data.numpy()\n",
    "yte_pred[yte_pred>=0.5]=1\n",
    "yte_pred[yte_pred<0.5]=0"
   ]
  },
  {
   "cell_type": "code",
   "execution_count": 56,
   "id": "7af23cf6",
   "metadata": {},
   "outputs": [
    {
     "name": "stdout",
     "output_type": "stream",
     "text": [
      "test accuarcy = 0.78978\n"
     ]
    }
   ],
   "source": [
    "acc=np.sum(yte_pred==y_te)/len(y_te)\n",
    "print('test accuarcy = '+str(acc))"
   ]
  },
  {
   "cell_type": "code",
   "execution_count": 28,
   "id": "6e0726bd",
   "metadata": {},
   "outputs": [],
   "source": [
    "test_tx=np.load('test_tx.npy')"
   ]
  },
  {
   "cell_type": "code",
   "execution_count": 30,
   "id": "4480c4cb",
   "metadata": {
    "scrolled": true
   },
   "outputs": [
    {
     "data": {
      "text/plain": [
       "array([0, 0, 0, ..., 0, 1, 0])"
      ]
     },
     "execution_count": 30,
     "metadata": {},
     "output_type": "execute_result"
    }
   ],
   "source": [
    "#y_predfin=SVmod.predict(test_tx)\n",
    "y_predfin=neigh.predict(test_tx)\n",
    "y_predfin"
   ]
  },
  {
   "cell_type": "code",
   "execution_count": 31,
   "id": "10e95bcc",
   "metadata": {},
   "outputs": [],
   "source": [
    "y_predfin[y_predfin>=0.5]=1\n",
    "y_predfin[y_predfin<0.5]=-1"
   ]
  },
  {
   "cell_type": "markdown",
   "id": "1f5d7f55",
   "metadata": {},
   "source": [
    "## Does finally the predictions"
   ]
  },
  {
   "cell_type": "code",
   "execution_count": 32,
   "id": "5a3e599b",
   "metadata": {},
   "outputs": [],
   "source": [
    "import csv"
   ]
  },
  {
   "cell_type": "code",
   "execution_count": 33,
   "id": "597ec671",
   "metadata": {},
   "outputs": [],
   "source": [
    "def create_csv_submission(y_pred, name):\n",
    "    \"\"\"Function which creates a csv file for submission on AI crowd.\"\"\"\n",
    "    ids = [x for x in range(1, len(y_pred)+1)]\n",
    "    with open(name, 'w') as csvfile:\n",
    "        fieldnames = ['Id', 'Prediction']\n",
    "        writer = csv.DictWriter(csvfile, delimiter=\",\", fieldnames=fieldnames)\n",
    "        writer.writeheader()\n",
    "        for r1, r2 in zip(ids, y_pred):\n",
    "    \n",
    "            writer.writerow({'Id':int(r1),'Prediction':int(r2)})"
   ]
  },
  {
   "cell_type": "code",
   "execution_count": 58,
   "id": "2ce833ea",
   "metadata": {},
   "outputs": [
    {
     "data": {
      "text/plain": [
       "array([[0.01130082],\n",
       "       [0.45614445],\n",
       "       [0.10727421],\n",
       "       ...,\n",
       "       [0.02670657],\n",
       "       [0.7393625 ],\n",
       "       [0.09938823]], dtype=float32)"
      ]
     },
     "execution_count": 58,
     "metadata": {},
     "output_type": "execute_result"
    }
   ],
   "source": [
    "y_pred = model2(torch.from_numpy(test_tx)).data.numpy()\n",
    "y_pred"
   ]
  },
  {
   "cell_type": "code",
   "execution_count": 59,
   "id": "272eacfb",
   "metadata": {},
   "outputs": [
    {
     "data": {
      "text/plain": [
       "(10000, 1)"
      ]
     },
     "execution_count": 59,
     "metadata": {},
     "output_type": "execute_result"
    }
   ],
   "source": [
    "y_pred.shape"
   ]
  },
  {
   "cell_type": "code",
   "execution_count": 60,
   "id": "85c23707",
   "metadata": {},
   "outputs": [],
   "source": [
    "y_pred[y_pred>=0.5]=1\n",
    "y_pred[y_pred<0.5]=-1"
   ]
  },
  {
   "cell_type": "code",
   "execution_count": 34,
   "id": "3eabb915",
   "metadata": {
    "scrolled": false
   },
   "outputs": [],
   "source": [
    "create_csv_submission(y_predfin,'KNN_1000000')"
   ]
  },
  {
   "cell_type": "code",
   "execution_count": 120,
   "id": "ef71239f",
   "metadata": {},
   "outputs": [
    {
     "data": {
      "text/plain": [
       "array([1.], dtype=float32)"
      ]
     },
     "execution_count": 120,
     "metadata": {},
     "output_type": "execute_result"
    }
   ],
   "source": [
    "y_pred[4589]"
   ]
  },
  {
   "cell_type": "code",
   "execution_count": null,
   "id": "157383ca",
   "metadata": {},
   "outputs": [],
   "source": []
  }
 ],
 "metadata": {
  "kernelspec": {
   "display_name": "Python 3 (ipykernel)",
   "language": "python",
   "name": "python3"
  },
  "language_info": {
   "codemirror_mode": {
    "name": "ipython",
    "version": 3
   },
   "file_extension": ".py",
   "mimetype": "text/x-python",
   "name": "python",
   "nbconvert_exporter": "python",
   "pygments_lexer": "ipython3",
   "version": "3.9.7"
  }
 },
 "nbformat": 4,
 "nbformat_minor": 5
}
